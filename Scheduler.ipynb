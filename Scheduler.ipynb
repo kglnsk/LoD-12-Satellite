{
 "cells": [
  {
   "cell_type": "code",
   "execution_count": 3,
   "id": "e7a8cf4f",
   "metadata": {},
   "outputs": [
    {
     "name": "stdout",
     "output_type": "stream",
     "text": [
      "%pylab is deprecated, use %matplotlib inline and import the required libraries.\n",
      "Populating the interactive namespace from numpy and matplotlib\n"
     ]
    }
   ],
   "source": [
    "import numpy as np\n",
    "import os\n",
    "from tqdm.auto import trange,tqdm\n",
    "import pandas as pd\n",
    "%pylab inline"
   ]
  },
  {
   "cell_type": "code",
   "execution_count": 4,
   "id": "401b8593",
   "metadata": {},
   "outputs": [],
   "source": [
    "N_satellites_per_orbit = 10\n",
    "N_orbits = 20\n",
    "imaging_folder = '../Russia2Constellation/'\n",
    "comm_folder = '../Facility2Constellation/'"
   ]
  },
  {
   "cell_type": "code",
   "execution_count": 5,
   "id": "0f373ba0",
   "metadata": {},
   "outputs": [
    {
     "data": {
      "application/vnd.jupyter.widget-view+json": {
       "model_id": "945efb31020541e3a04135defd7eaab6",
       "version_major": 2,
       "version_minor": 0
      },
      "text/plain": [
       "  0%|          | 0/20 [00:00<?, ?it/s]"
      ]
     },
     "metadata": {},
     "output_type": "display_data"
    }
   ],
   "source": [
    "dataframes_imaging = []\n",
    "for orbit in trange(N_orbits):\n",
    "    with open(os.path.join(imaging_folder,\"AreaTarget-Russia-To-Satellite-KinoSat_{:02d}_plane.txt\".format(1+orbit)), 'r') as file:\n",
    "        content = file.read()\n",
    "    for satellite in range(N_satellites_per_orbit):\n",
    "        # Extract the table\n",
    "        table_start = content.index('Russia-To-KinoSat_11{:02d}{:02d}'.format(1+orbit,1+satellite))\n",
    "        table_end = table_start + content[table_start:].index('\\nMin')\n",
    "        table_content = content[table_start:table_end].strip()\n",
    "\n",
    "        # Create a list of lines in the table\n",
    "        table_lines = table_content.split('\\n')\n",
    "\n",
    "        # Extract the table headers\n",
    "        header_line = table_lines[2]\n",
    "        headers = header_line.split()\n",
    "\n",
    "        # Extract the table rows\n",
    "        rows = [line.split() for line in table_lines[4:]]\n",
    "\n",
    "        # Create a DataFrame from the table\n",
    "        df = pd.DataFrame(rows)\n",
    "\n",
    "        # Convert date columns to datetime format\n",
    "        date_columns = [4,8]\n",
    "        df[date_columns] = df[date_columns].apply(pd.to_datetime)\n",
    "        df[4] = df[4].dt.time\n",
    "        df[8] = df[8].dt.time\n",
    "        dataframes_imaging.append(df)"
   ]
  },
  {
   "cell_type": "code",
   "execution_count": 6,
   "id": "36e759fe",
   "metadata": {},
   "outputs": [
    {
     "data": {
      "application/vnd.jupyter.widget-view+json": {
       "model_id": "e127632ec09049e8a838cc04118dbaf8",
       "version_major": 2,
       "version_minor": 0
      },
      "text/plain": [
       "  0%|          | 0/20 [00:00<?, ?it/s]"
      ]
     },
     "metadata": {},
     "output_type": "display_data"
    }
   ],
   "source": [
    "dataframes_imaging = []\n",
    "for orbit in trange(N_orbits):\n",
    "    with open(os.path.join(imaging_folder,\"AreaTarget-Russia-To-Satellite-KinoSat_{:02d}_plane.txt\".format(1+orbit)), 'r') as file:\n",
    "        content = file.read()\n",
    "    for satellite in range(N_satellites_per_orbit):\n",
    "        # Extract the table\n",
    "        table_start = content.index('Russia-To-KinoSat_11{:02d}{:02d}'.format(1+orbit,1+satellite))\n",
    "        table_end = table_start + content[table_start:].index('\\nMin')\n",
    "        table_content = content[table_start:table_end].strip()\n",
    "\n",
    "        # Create a list of lines in the table\n",
    "        table_lines = table_content.split('\\n')\n",
    "\n",
    "        # Extract the table headers\n",
    "        header_line = table_lines[2]\n",
    "        headers = header_line.split()\n",
    "\n",
    "        # Extract the table rows\n",
    "        rows = [line.split() for line in table_lines[4:]]\n",
    "\n",
    "        # Create a DataFrame from the table\n",
    "        df = pd.DataFrame(rows)\n",
    "\n",
    "        # Convert date columns to datetime format\n",
    "        date_columns = [4,8]\n",
    "        df[date_columns] = df[date_columns].apply(pd.to_datetime)\n",
    "        df[4] = df[4].dt.time\n",
    "        df[8] = df[8].dt.time\n",
    "        dataframes_imaging.append(df)"
   ]
  },
  {
   "cell_type": "code",
   "execution_count": 7,
   "id": "c79bfa69",
   "metadata": {},
   "outputs": [],
   "source": [
    "stations = [f.split('-')[1].split('.txt')[0] for f in os.listdir(comm_folder) if 'Facility' in f]\n",
    "N_stations = len(stations)"
   ]
  },
  {
   "cell_type": "code",
   "execution_count": 8,
   "id": "b2125703",
   "metadata": {},
   "outputs": [
    {
     "data": {
      "application/vnd.jupyter.widget-view+json": {
       "model_id": "9e209c6e35e7496f8e6aa475120a6b3a",
       "version_major": 2,
       "version_minor": 0
      },
      "text/plain": [
       "0it [00:00, ?it/s]"
      ]
     },
     "metadata": {},
     "output_type": "display_data"
    },
    {
     "data": {
      "application/vnd.jupyter.widget-view+json": {
       "model_id": "7d0df6db0afc4127aeebd39fa2b9fcec",
       "version_major": 2,
       "version_minor": 0
      },
      "text/plain": [
       "  0%|          | 0/20 [00:00<?, ?it/s]"
      ]
     },
     "metadata": {},
     "output_type": "display_data"
    },
    {
     "data": {
      "application/vnd.jupyter.widget-view+json": {
       "model_id": "af14f896a93c486bb398aae3d8ae6e07",
       "version_major": 2,
       "version_minor": 0
      },
      "text/plain": [
       "  0%|          | 0/20 [00:00<?, ?it/s]"
      ]
     },
     "metadata": {},
     "output_type": "display_data"
    },
    {
     "data": {
      "application/vnd.jupyter.widget-view+json": {
       "model_id": "bfd08d6eb9334bcaa9a18ebbc7bcf517",
       "version_major": 2,
       "version_minor": 0
      },
      "text/plain": [
       "  0%|          | 0/20 [00:00<?, ?it/s]"
      ]
     },
     "metadata": {},
     "output_type": "display_data"
    },
    {
     "data": {
      "application/vnd.jupyter.widget-view+json": {
       "model_id": "453a084729fa4598bc34180288ca5323",
       "version_major": 2,
       "version_minor": 0
      },
      "text/plain": [
       "  0%|          | 0/20 [00:00<?, ?it/s]"
      ]
     },
     "metadata": {},
     "output_type": "display_data"
    },
    {
     "data": {
      "application/vnd.jupyter.widget-view+json": {
       "model_id": "3c25d93b89864498b287c98182aa5b28",
       "version_major": 2,
       "version_minor": 0
      },
      "text/plain": [
       "  0%|          | 0/20 [00:00<?, ?it/s]"
      ]
     },
     "metadata": {},
     "output_type": "display_data"
    },
    {
     "data": {
      "application/vnd.jupyter.widget-view+json": {
       "model_id": "b38b632d5083460eac1c8e83803b7985",
       "version_major": 2,
       "version_minor": 0
      },
      "text/plain": [
       "  0%|          | 0/20 [00:00<?, ?it/s]"
      ]
     },
     "metadata": {},
     "output_type": "display_data"
    },
    {
     "data": {
      "application/vnd.jupyter.widget-view+json": {
       "model_id": "7385dbc5806e4442b82bd7291c57efe8",
       "version_major": 2,
       "version_minor": 0
      },
      "text/plain": [
       "  0%|          | 0/20 [00:00<?, ?it/s]"
      ]
     },
     "metadata": {},
     "output_type": "display_data"
    },
    {
     "data": {
      "application/vnd.jupyter.widget-view+json": {
       "model_id": "b13d85d209eb4b82a3248b094bab56b2",
       "version_major": 2,
       "version_minor": 0
      },
      "text/plain": [
       "  0%|          | 0/20 [00:00<?, ?it/s]"
      ]
     },
     "metadata": {},
     "output_type": "display_data"
    },
    {
     "data": {
      "application/vnd.jupyter.widget-view+json": {
       "model_id": "f1da6900dbab438e89c7b2df2ea76917",
       "version_major": 2,
       "version_minor": 0
      },
      "text/plain": [
       "  0%|          | 0/20 [00:00<?, ?it/s]"
      ]
     },
     "metadata": {},
     "output_type": "display_data"
    },
    {
     "data": {
      "application/vnd.jupyter.widget-view+json": {
       "model_id": "0de88b6a997f453a8744ff1e262ea4e2",
       "version_major": 2,
       "version_minor": 0
      },
      "text/plain": [
       "  0%|          | 0/20 [00:00<?, ?it/s]"
      ]
     },
     "metadata": {},
     "output_type": "display_data"
    },
    {
     "data": {
      "application/vnd.jupyter.widget-view+json": {
       "model_id": "3e79002e36144b7fa2162a419c801bb0",
       "version_major": 2,
       "version_minor": 0
      },
      "text/plain": [
       "  0%|          | 0/20 [00:00<?, ?it/s]"
      ]
     },
     "metadata": {},
     "output_type": "display_data"
    },
    {
     "data": {
      "application/vnd.jupyter.widget-view+json": {
       "model_id": "27c54c2e1a2c4c4cab2afd9a4e739414",
       "version_major": 2,
       "version_minor": 0
      },
      "text/plain": [
       "  0%|          | 0/20 [00:00<?, ?it/s]"
      ]
     },
     "metadata": {},
     "output_type": "display_data"
    },
    {
     "data": {
      "application/vnd.jupyter.widget-view+json": {
       "model_id": "1e5f0f68d8ff479cb9f8a21a0ea85172",
       "version_major": 2,
       "version_minor": 0
      },
      "text/plain": [
       "  0%|          | 0/20 [00:00<?, ?it/s]"
      ]
     },
     "metadata": {},
     "output_type": "display_data"
    },
    {
     "data": {
      "application/vnd.jupyter.widget-view+json": {
       "model_id": "e70fa1f62d1e4e6c9d5a171e7b27e485",
       "version_major": 2,
       "version_minor": 0
      },
      "text/plain": [
       "  0%|          | 0/20 [00:00<?, ?it/s]"
      ]
     },
     "metadata": {},
     "output_type": "display_data"
    }
   ],
   "source": [
    "dataframes_comm = []\n",
    "for i,station in tqdm(enumerate(stations)):\n",
    "    with open(os.path.join(comm_folder,'Facility-{}.txt'.format(station)),'r') as file:\n",
    "        content = file.read()\n",
    "    for orbit in trange(N_orbits):\n",
    "        for satellite in range(N_satellites_per_orbit):\n",
    "            # Extract the table\n",
    "            station_fix = station\n",
    "            if station_fix == 'Cape_Town':\n",
    "                station_fix = 'CapeTown'\n",
    "            if station_fix == 'Dehli':\n",
    "                station_fix = 'Delhi'\n",
    "                \n",
    "            table_start = content.index('{}-To-KinoSat_11{:02d}{:02d}'.format(station_fix,1+orbit,1+satellite))\n",
    "            table_end = table_start + content[table_start:].index('\\nMin')\n",
    "            table_content = content[table_start:table_end].strip()\n",
    "\n",
    "            # Create a list of lines in the table\n",
    "            table_lines = table_content.split('\\n')\n",
    "\n",
    "            # Extract the table headers\n",
    "            header_line = table_lines[2]\n",
    "            headers = header_line.split()\n",
    "\n",
    "            # Extract the table rows\n",
    "            rows = [line.split() for line in table_lines[4:]]\n",
    "\n",
    "            # Create a DataFrame from the table\n",
    "            df = pd.DataFrame(rows)\n",
    "\n",
    "            # Convert date columns to datetime format\n",
    "            date_columns = [4,8]\n",
    "            df[date_columns] = df[date_columns].apply(pd.to_datetime)\n",
    "            df[4] = df[4].dt.time\n",
    "            df[8] = df[8].dt.time\n",
    "            dataframes_comm.append(df)\n"
   ]
  },
  {
   "cell_type": "code",
   "execution_count": 9,
   "id": "c357de1f",
   "metadata": {},
   "outputs": [],
   "source": [
    "dataframes_visible = dataframes_imaging.copy()"
   ]
  },
  {
   "cell_type": "code",
   "execution_count": 10,
   "id": "bff09ee7",
   "metadata": {},
   "outputs": [
    {
     "data": {
      "application/vnd.jupyter.widget-view+json": {
       "model_id": "63529f223a1b48c0a1a756dbd5784a2e",
       "version_major": 2,
       "version_minor": 0
      },
      "text/plain": [
       "  0%|          | 0/200 [00:00<?, ?it/s]"
      ]
     },
     "metadata": {},
     "output_type": "display_data"
    }
   ],
   "source": [
    "df_filters = []\n",
    "for df in tqdm(dataframes_visible):\n",
    "    filtered_df = df[(df[4].astype(str).apply(pd.to_datetime).dt.hour >= 9) & (df[8].astype(str).apply(pd.to_datetime).dt.hour < 18)]\n",
    "    df_filters.append(filtered_df)"
   ]
  },
  {
   "cell_type": "code",
   "execution_count": 22,
   "id": "da028f38",
   "metadata": {},
   "outputs": [],
   "source": [
    "def create_imaging_array(df_imag,day):\n",
    "    day = str(day)\n",
    "    imaging = np.zeros([len(df_imag),86400])\n",
    "    for i,df_input in tqdm(enumerate(df_imag)):\n",
    "        result = np.zeros(86400, dtype=int)\n",
    "        period_end = pd.to_timedelta(df_input[df_input[1]==day][8].astype(str).apply(pd.to_datetime).dt.time.astype(str)).dt.total_seconds().astype(int).values\n",
    "        period_start = pd.to_timedelta(df_input[df_input[1]==day][4].astype(str).apply(pd.to_datetime).dt.time.astype(str)).dt.total_seconds().astype(int).values\n",
    "        for r in range(len(period_end)):\n",
    "            result[period_start[r]:period_end[r]] = 1\n",
    "        imaging[i,:] = result\n",
    "    return imaging\n",
    "        \n",
    "def create_downlink_array(df_imag,day):\n",
    "    day = str(day)\n",
    "    imaging = np.zeros([len(df_imag),86400])\n",
    "    for i,df_input in tqdm(enumerate(df_imag)):\n",
    "        result = np.zeros(86400, dtype=int)\n",
    "        period_end = pd.to_timedelta(df_input[df_input[1]==day][8].astype(str).apply(pd.to_datetime).dt.time.astype(str)).dt.total_seconds().astype(int).values\n",
    "        period_start = pd.to_timedelta(df_input[df_input[1]==day][4].astype(str).apply(pd.to_datetime).dt.time.astype(str)).dt.total_seconds().astype(int).values\n",
    "        for r in range(len(period_end)):\n",
    "            result[period_start[r]:period_end[r]] = 1\n",
    "        imaging[i,:] = result\n",
    "    imaging = imaging.reshape(N_stations,-1,86400).transpose(1,0,2)\n",
    "    return imaging"
   ]
  },
  {
   "cell_type": "code",
   "execution_count": 23,
   "id": "8ed9b462",
   "metadata": {},
   "outputs": [
    {
     "data": {
      "application/vnd.jupyter.widget-view+json": {
       "model_id": "4cdbf031127d4d0cad8ba7dee6354626",
       "version_major": 2,
       "version_minor": 0
      },
      "text/plain": [
       "0it [00:00, ?it/s]"
      ]
     },
     "metadata": {},
     "output_type": "display_data"
    },
    {
     "data": {
      "application/vnd.jupyter.widget-view+json": {
       "model_id": "23beab6a6e874621b95eb3af81d11697",
       "version_major": 2,
       "version_minor": 0
      },
      "text/plain": [
       "0it [00:00, ?it/s]"
      ]
     },
     "metadata": {},
     "output_type": "display_data"
    }
   ],
   "source": [
    "imaging = create_imaging_array(df_filters,1)\n",
    "downlink = create_downlink_array(dataframes_comm,1)"
   ]
  },
  {
   "cell_type": "code",
   "execution_count": 50,
   "id": "def215bb",
   "metadata": {},
   "outputs": [],
   "source": [
    "import numpy as np\n",
    "\n",
    "def round_robin_scheduler_with_capacity(imaging, downlink, N, M):\n",
    "    imaging_minutes = 86400\n",
    "\n",
    "    # Step 1: Initialize variables\n",
    "    memory = np.zeros(N, dtype=int)\n",
    "    memory_per_second = 4\n",
    "    throughput_per_second = 1\n",
    "    imaging_schedule = np.zeros((N, imaging_minutes), dtype=int)\n",
    "    downlink_schedule = np.zeros((N, M, imaging_minutes), dtype=int)\n",
    "    satellite_last_downlink = np.zeros(N, dtype=int)\n",
    "    ground_station_busy = np.zeros((M, imaging_minutes), dtype=bool)\n",
    "\n",
    "    # Step 2: Iterate through each second\n",
    "    for time in trange(imaging_minutes):\n",
    "        # Step 3: For each satellite at the current time\n",
    "        for satellite in range(N):\n",
    "            # Step 3a: Check if satellite has available memory and can perform imaging\n",
    "            if memory[satellite] < 8000 and imaging[satellite][time] == 1:\n",
    "                imaging_schedule[satellite][time] = 1\n",
    "                memory[satellite] += memory_per_second\n",
    "            # Step 3b: If satellite's memory is full or not imaging, find next ground station for downlink\n",
    "            elif memory[satellite] > 0:\n",
    "                ground_station_found = False\n",
    "                for i in range(M):\n",
    "                    # Find the next ground station based on round-robin order\n",
    "                    ground_station = (satellite_last_downlink[satellite] + i + 1) % M\n",
    "                    if downlink[satellite][ground_station][time] == 1 and not ground_station_busy[ground_station][time]:\n",
    "                        downlink_schedule[satellite][ground_station][time] = 1\n",
    "                        memory[satellite] -= throughput_per_second\n",
    "                        satellite_last_downlink[satellite] = ground_station\n",
    "                        ground_station_busy[ground_station][time] = True\n",
    "                        ground_station_found = True\n",
    "                        break\n",
    "                # Step 3c: If no suitable ground station found, move to the next satellite\n",
    "                if not ground_station_found:\n",
    "                    continue\n",
    "\n",
    "    # Step 4: Return the imaging_schedule and downlink_schedule arrays\n",
    "    return imaging_schedule, downlink_schedule, memory\n",
    "\n",
    "\n",
    "import numpy as np\n",
    "from ortools.linear_solver import pywraplp\n",
    "\n",
    "def integer_linear_optimization(imaging, downlink, N, M):\n",
    "    # Create linear programming solver\n",
    "    solver = pywraplp.Solver.CreateSolver('GLOP')\n",
    "\n",
    "    imaging_minutes = 86400\n",
    "    x = {}\n",
    "    y = {}\n",
    "\n",
    "    # Define decision variables\n",
    "    for satellite in range(N):\n",
    "        for time in range(imaging_minutes):\n",
    "            x[satellite, time] = solver.BoolVar(f'x[{satellite}, {time}]')\n",
    "            for ground_station in range(M):\n",
    "                y[satellite, ground_station, time] = solver.BoolVar(f'y[{satellite}, {ground_station}, {time}]')\n",
    "\n",
    "    # Set objective function\n",
    "    objective = solver.Objective()\n",
    "    for satellite in range(N):\n",
    "        for time in range(imaging_minutes):\n",
    "            objective.SetCoefficient(x[satellite, time], 1)\n",
    "    objective.SetMaximization()\n",
    "\n",
    "    # Add constraints\n",
    "    for satellite in range(N):\n",
    "        for time in range(imaging_minutes):\n",
    "            # Constraint for simultaneous imaging and transmission avoidance\n",
    "            for ground_station in range(M):\n",
    "                constraint1 = solver.Constraint(0, 1)\n",
    "                constraint1.SetCoefficient(x[satellite, time], 1)\n",
    "                constraint1.SetCoefficient(y[satellite, ground_station, time], 1)\n",
    "\n",
    "            # Constraint for satellite memory\n",
    "            constraint2 = solver.Constraint(-solver.infinity(), 0)\n",
    "            constraint2.SetCoefficient(x[satellite, time], -1000)\n",
    "            for ground_station in range(M):\n",
    "                constraint2.SetCoefficient(y[satellite, ground_station, time], 8000)\n",
    "\n",
    "            # Constraint for imaging feasibility\n",
    "            if imaging[satellite][time] == 0:\n",
    "                constraint3 = solver.Constraint(0, 0)\n",
    "                constraint3.SetCoefficient(x[satellite, time], 1)\n",
    "\n",
    "            # Constraint for downlink feasibility\n",
    "            for ground_station in range(M):\n",
    "                if downlink[satellite][ground_station][time] == 0:\n",
    "                    constraint4 = solver.Constraint(0, 0)\n",
    "                    constraint4.SetCoefficient(y[satellite, ground_station, time], 1)\n",
    "\n",
    "    # Solve the linear program\n",
    "    solver.parameters.max_time_in_seconds = 30.0\n",
    "    solver.Solve()\n",
    "\n",
    "    # Extract solution values\n",
    "    imaging_schedule = np.zeros((N, imaging_minutes), dtype=int)\n",
    "    downlink_schedule = np.zeros((N, M, imaging_minutes), dtype=int)\n",
    "    for satellite in range(N):\n",
    "        for time in range(imaging_minutes):\n",
    "            imaging_schedule[satellite][time] = int(x[satellite, time].solution_value())\n",
    "            for ground_station in range(M):\n",
    "                downlink_schedule[satellite][ground_station][time] = int(y[satellite, ground_station, time].solution_value())\n",
    "\n",
    "    # Return imaging_schedule and downlink_schedule arrays\n",
    "    return imaging_schedule, downlink_schedule"
   ]
  },
  {
   "cell_type": "code",
   "execution_count": 51,
   "id": "6f356940",
   "metadata": {},
   "outputs": [
    {
     "data": {
      "application/vnd.jupyter.widget-view+json": {
       "model_id": "d121502495934949ba581791afde7636",
       "version_major": 2,
       "version_minor": 0
      },
      "text/plain": [
       "  0%|          | 0/86400 [00:00<?, ?it/s]"
      ]
     },
     "metadata": {},
     "output_type": "display_data"
    }
   ],
   "source": [
    "#INITIAL ROUND ROBIN SCHEDULER\n",
    "imaging_schedule,downlink_schedule,memory = round_robin_scheduler_with_capacity(imaging,downlink,200,14)"
   ]
  },
  {
   "cell_type": "code",
   "execution_count": 25,
   "id": "0021b13f",
   "metadata": {},
   "outputs": [
    {
     "ename": "KeyboardInterrupt",
     "evalue": "",
     "output_type": "error",
     "traceback": [
      "\u001b[0;31m---------------------------------------------------------------------------\u001b[0m",
      "\u001b[0;31mKeyboardInterrupt\u001b[0m                         Traceback (most recent call last)",
      "Cell \u001b[0;32mIn[25], line 1\u001b[0m\n\u001b[0;32m----> 1\u001b[0m a,b \u001b[38;5;241m=\u001b[39m \u001b[43minteger_linear_optimization\u001b[49m\u001b[43m(\u001b[49m\u001b[43mimaging\u001b[49m\u001b[43m,\u001b[49m\u001b[43mdownlink\u001b[49m\u001b[43m,\u001b[49m\u001b[38;5;241;43m200\u001b[39;49m\u001b[43m,\u001b[49m\u001b[38;5;241;43m14\u001b[39;49m\u001b[43m)\u001b[49m\n",
      "Cell \u001b[0;32mIn[24], line 60\u001b[0m, in \u001b[0;36minteger_linear_optimization\u001b[0;34m(imaging, downlink, N, M)\u001b[0m\n\u001b[1;32m     58\u001b[0m         x[satellite, time] \u001b[38;5;241m=\u001b[39m solver\u001b[38;5;241m.\u001b[39mBoolVar(\u001b[38;5;124mf\u001b[39m\u001b[38;5;124m'\u001b[39m\u001b[38;5;124mx[\u001b[39m\u001b[38;5;132;01m{\u001b[39;00msatellite\u001b[38;5;132;01m}\u001b[39;00m\u001b[38;5;124m, \u001b[39m\u001b[38;5;132;01m{\u001b[39;00mtime\u001b[38;5;132;01m}\u001b[39;00m\u001b[38;5;124m]\u001b[39m\u001b[38;5;124m'\u001b[39m)\n\u001b[1;32m     59\u001b[0m         \u001b[38;5;28;01mfor\u001b[39;00m ground_station \u001b[38;5;129;01min\u001b[39;00m \u001b[38;5;28mrange\u001b[39m(M):\n\u001b[0;32m---> 60\u001b[0m             y[satellite, ground_station, time] \u001b[38;5;241m=\u001b[39m \u001b[43msolver\u001b[49m\u001b[38;5;241;43m.\u001b[39;49m\u001b[43mBoolVar\u001b[49m\u001b[43m(\u001b[49m\u001b[38;5;124;43mf\u001b[39;49m\u001b[38;5;124;43m'\u001b[39;49m\u001b[38;5;124;43my[\u001b[39;49m\u001b[38;5;132;43;01m{\u001b[39;49;00m\u001b[43msatellite\u001b[49m\u001b[38;5;132;43;01m}\u001b[39;49;00m\u001b[38;5;124;43m, \u001b[39;49m\u001b[38;5;132;43;01m{\u001b[39;49;00m\u001b[43mground_station\u001b[49m\u001b[38;5;132;43;01m}\u001b[39;49;00m\u001b[38;5;124;43m, \u001b[39;49m\u001b[38;5;132;43;01m{\u001b[39;49;00m\u001b[43mtime\u001b[49m\u001b[38;5;132;43;01m}\u001b[39;49;00m\u001b[38;5;124;43m]\u001b[39;49m\u001b[38;5;124;43m'\u001b[39;49m\u001b[43m)\u001b[49m\n\u001b[1;32m     62\u001b[0m \u001b[38;5;66;03m# Set objective function\u001b[39;00m\n\u001b[1;32m     63\u001b[0m objective \u001b[38;5;241m=\u001b[39m solver\u001b[38;5;241m.\u001b[39mObjective()\n",
      "File \u001b[0;32m~/.local/lib/python3.10/site-packages/ortools/linear_solver/pywraplp.py:191\u001b[0m, in \u001b[0;36mSolver.BoolVar\u001b[0;34m(self, name)\u001b[0m\n\u001b[1;32m    188\u001b[0m \u001b[38;5;250m    \u001b[39m\u001b[38;5;124mr\u001b[39m\u001b[38;5;124;03m\"\"\" Creates an integer variable.\"\"\"\u001b[39;00m\n\u001b[1;32m    189\u001b[0m     \u001b[38;5;28;01mreturn\u001b[39;00m _pywraplp\u001b[38;5;241m.\u001b[39mSolver_IntVar(\u001b[38;5;28mself\u001b[39m, lb, ub, name)\n\u001b[0;32m--> 191\u001b[0m \u001b[38;5;28;01mdef\u001b[39;00m \u001b[38;5;21mBoolVar\u001b[39m(\u001b[38;5;28mself\u001b[39m, name):\n\u001b[1;32m    192\u001b[0m \u001b[38;5;250m    \u001b[39m\u001b[38;5;124mr\u001b[39m\u001b[38;5;124;03m\"\"\" Creates a boolean variable.\"\"\"\u001b[39;00m\n\u001b[1;32m    193\u001b[0m     \u001b[38;5;28;01mreturn\u001b[39;00m _pywraplp\u001b[38;5;241m.\u001b[39mSolver_BoolVar(\u001b[38;5;28mself\u001b[39m, name)\n",
      "\u001b[0;31mKeyboardInterrupt\u001b[0m: "
     ]
    }
   ],
   "source": [
    "#ILP SOLVER\n",
    "imaging_schedule,downlink_schedule = integer_linear_optimization(imaging,downlink,200,14)"
   ]
  },
  {
   "cell_type": "code",
   "execution_count": 75,
   "id": "6a8c488f",
   "metadata": {},
   "outputs": [
    {
     "data": {
      "application/vnd.jupyter.widget-view+json": {
       "model_id": "f56333d471ae4667be803ba9a8e8415d",
       "version_major": 2,
       "version_minor": 0
      },
      "text/plain": [
       "0it [00:00, ?it/s]"
      ]
     },
     "metadata": {},
     "output_type": "display_data"
    }
   ],
   "source": [
    "total_dict = []\n",
    "for i,station_name in tqdm(enumerate(stations)):\n",
    "    for j in range(40000,40500):\n",
    "        if downlink_schedule[:,i,j].sum()>0:\n",
    "            dict_station = {}\n",
    "            sat_num = np.argmax(downlink_schedule[:,i,j])\n",
    "            sat = '11{:02d}{:02d}'.format(sat_num//10+1,sat_num%10+1)\n",
    "            dict_station['sat'] = sat\n",
    "            dict_station['station'] = station_name\n",
    "            dict_station['income_data'] = 125.0\n",
    "            dict_station['start'] = str(datetime.timedelta(seconds=j))\n",
    "            dict_station['end'] = str(datetime.timedelta(seconds=j+1))\n",
    "            total_dict.append(dict_station)"
   ]
  },
  {
   "cell_type": "code",
   "execution_count": 76,
   "id": "a93838a5",
   "metadata": {},
   "outputs": [],
   "source": [
    "with open(\"satellite_small.json\", \"w\") as outfile:\n",
    "    json.dump(total_dict, outfile)"
   ]
  },
  {
   "cell_type": "code",
   "execution_count": 77,
   "id": "ea1d42f9",
   "metadata": {},
   "outputs": [
    {
     "data": {
      "application/vnd.jupyter.widget-view+json": {
       "model_id": "2b47caeb92ff4b70b4c26ce80d575c37",
       "version_major": 2,
       "version_minor": 0
      },
      "text/plain": [
       "  0%|          | 0/86400 [00:00<?, ?it/s]"
      ]
     },
     "metadata": {},
     "output_type": "display_data"
    },
    {
     "ename": "KeyboardInterrupt",
     "evalue": "",
     "output_type": "error",
     "traceback": [
      "\u001b[0;31m---------------------------------------------------------------------------\u001b[0m",
      "\u001b[0;31mKeyboardInterrupt\u001b[0m                         Traceback (most recent call last)",
      "Cell \u001b[0;32mIn[77], line 3\u001b[0m\n\u001b[1;32m      1\u001b[0m \u001b[38;5;28;01mimport\u001b[39;00m \u001b[38;5;21;01mjson\u001b[39;00m \n\u001b[0;32m----> 3\u001b[0m imaging_schedule,downlink_schedule,memory \u001b[38;5;241m=\u001b[39m \u001b[43mround_robin_scheduler_with_capacity\u001b[49m\u001b[43m(\u001b[49m\u001b[43mimaging\u001b[49m\u001b[43m,\u001b[49m\u001b[43mdownlink\u001b[49m\u001b[43m,\u001b[49m\u001b[38;5;241;43m200\u001b[39;49m\u001b[43m,\u001b[49m\u001b[38;5;241;43m14\u001b[39;49m\u001b[43m)\u001b[49m\n\u001b[1;32m      5\u001b[0m total_dict \u001b[38;5;241m=\u001b[39m []\n\u001b[1;32m      6\u001b[0m \u001b[38;5;28;01mfor\u001b[39;00m i,station_name \u001b[38;5;129;01min\u001b[39;00m tqdm(\u001b[38;5;28menumerate\u001b[39m(stations)):\n",
      "Cell \u001b[0;32mIn[50], line 29\u001b[0m, in \u001b[0;36mround_robin_scheduler_with_capacity\u001b[0;34m(imaging, downlink, N, M)\u001b[0m\n\u001b[1;32m     26\u001b[0m \u001b[38;5;28;01mfor\u001b[39;00m i \u001b[38;5;129;01min\u001b[39;00m \u001b[38;5;28mrange\u001b[39m(M):\n\u001b[1;32m     27\u001b[0m     \u001b[38;5;66;03m# Find the next ground station based on round-robin order\u001b[39;00m\n\u001b[1;32m     28\u001b[0m     ground_station \u001b[38;5;241m=\u001b[39m (satellite_last_downlink[satellite] \u001b[38;5;241m+\u001b[39m i \u001b[38;5;241m+\u001b[39m \u001b[38;5;241m1\u001b[39m) \u001b[38;5;241m%\u001b[39m M\n\u001b[0;32m---> 29\u001b[0m     \u001b[38;5;28;01mif\u001b[39;00m downlink[satellite][ground_station][time] \u001b[38;5;241m==\u001b[39m \u001b[38;5;241m1\u001b[39m \u001b[38;5;129;01mand\u001b[39;00m \u001b[38;5;129;01mnot\u001b[39;00m ground_station_busy[ground_station][time]:\n\u001b[1;32m     30\u001b[0m         downlink_schedule[satellite][ground_station][time] \u001b[38;5;241m=\u001b[39m \u001b[38;5;241m1\u001b[39m\n\u001b[1;32m     31\u001b[0m         memory[satellite] \u001b[38;5;241m-\u001b[39m\u001b[38;5;241m=\u001b[39m throughput_per_second\n",
      "\u001b[0;31mKeyboardInterrupt\u001b[0m: "
     ]
    }
   ],
   "source": [
    "import json \n",
    "\n",
    "imaging_schedule,downlink_schedule,memory = round_robin_scheduler_with_capacity(imaging,downlink,200,14)\n",
    "\n",
    "total_dict = []\n",
    "for i,station_name in tqdm(enumerate(stations)):\n",
    "    for j in range(86400):\n",
    "        if downlink_schedule[:,i,j].sum()>0:\n",
    "            dict_station = {}\n",
    "            sat_num = np.argmax(downlink_schedule[:,i,j])\n",
    "            sat = '11{:02d}{:02d}'.format(sat_num//10+1,sat_num%10+1)\n",
    "            dict_station['sat'] = sat\n",
    "            dict_station['station'] = station_name\n",
    "            dict_station['income_data'] = 125.0\n",
    "            dict_station['start'] = str(datetime.timedelta(seconds=j))\n",
    "            dict_station['end'] = str(datetime.timedelta(seconds=j+1))\n",
    "            total_dict.append(dict_station)\n",
    "            \n",
    "with open(\"satellite.json\", \"w\") as outfile:\n",
    "    json.dump(total_dict, outfile)"
   ]
  }
 ],
 "metadata": {
  "kernelspec": {
   "display_name": "Python 3 (ipykernel)",
   "language": "python",
   "name": "python3"
  },
  "language_info": {
   "codemirror_mode": {
    "name": "ipython",
    "version": 3
   },
   "file_extension": ".py",
   "mimetype": "text/x-python",
   "name": "python",
   "nbconvert_exporter": "python",
   "pygments_lexer": "ipython3",
   "version": "3.10.9"
  }
 },
 "nbformat": 4,
 "nbformat_minor": 5
}
